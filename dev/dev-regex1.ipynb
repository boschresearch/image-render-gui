{
 "cells": [
  {
   "cell_type": "code",
   "execution_count": null,
   "metadata": {},
   "outputs": [],
   "source": [
    "import re\n",
    "\n",
    "reVarStart = re.compile(r\"^(?P<type>[a-z])[A-Z]\")\n",
    "xM = reVarStart.match(\"iHello\")\n",
    "print(xM.groups)\n"
   ]
  }
 ],
 "metadata": {
  "language_info": {
   "name": "python"
  },
  "orig_nbformat": 4
 },
 "nbformat": 4,
 "nbformat_minor": 2
}
